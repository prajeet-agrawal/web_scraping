{
 "cells": [
  {
   "cell_type": "code",
   "execution_count": 1,
   "metadata": {},
   "outputs": [
    {
     "ename": "SyntaxError",
     "evalue": "invalid syntax (<ipython-input-1-07f5b7ec0967>, line 11)",
     "output_type": "error",
     "traceback": [
      "\u001b[0;36m  File \u001b[0;32m\"<ipython-input-1-07f5b7ec0967>\"\u001b[0;36m, line \u001b[0;32m11\u001b[0m\n\u001b[0;31m    csv_writer.writerow(['S.No.', FLIGHT','FLIGHT NUMBER','DEPARTURE TIME','ARRIVAL TIME','DESTINATION'])\u001b[0m\n\u001b[0m                                          ^\u001b[0m\n\u001b[0;31mSyntaxError\u001b[0m\u001b[0;31m:\u001b[0m invalid syntax\n"
     ]
    }
   ],
   "source": [
    "import requests\n",
    "from bs4 import BeautifulSoup\n",
    "import csv\n",
    "\n",
    "base_url = \"https://www.flightstats.com/v2/flight-tracker/departures/KTM\"\n",
    "response = requests.get(base_url)\n",
    "soup = BeautifulSoup(response.content, 'lxml')\n",
    "\n",
    "csv_file = open('flight_status.csv', 'w')\n",
    "csv_writer = csv.writer(csv_file)\n",
    "csv_writer.writerow(['S.No','FLIGHT','FLIGHT NUMBER','DEPARTURE TIME','ARRIVAL TIME','DESTINATION'])\n",
    "sn = 0\n",
    "for table in soup.find_all('a', class_=\"table__A-s1x7nv9w-2 flrJsE\"):\n",
    "    sn = sn +1\n",
    "    print(sn)\n",
    "    \n",
    "    flight = table.find('div', class_='table__Cell-s1x7nv9w-13 iZEpOT').text\n",
    "    print(flight)\n",
    "    \n",
    "    flight_no = table.find('div', class_='table__Cell-s1x7nv9w-13 Ltznn').text\n",
    "    print(flight_no)\n",
    "    \n",
    "    departure = table.find('div', class_=\"table__Cell-s1x7nv9w-13 nqUsN\").text\n",
    "    print(departure)\n",
    "\n",
    "    arrival = table.find('div', class_=\"table__OrangeCell-s1x7nv9w-14 jJXjoY table__Cell-s1x7nv9w-13 nqUsN\").text\n",
    "    print(arrival)\n",
    "    \n",
    "    destination = table.find('div', class_=\"table__Cell-s1x7nv9w-13 hUDiRd\").text\n",
    "    print(destination)\n",
    "    \n",
    "    print()\n",
    "    \n",
    "    csv_writer.writerow([sn, flight ,flight_no, departure, arrival, destination])\n",
    "    \n",
    "csv_file.close()\n"
   ]
  },
  {
   "cell_type": "code",
   "execution_count": null,
   "metadata": {},
   "outputs": [],
   "source": []
  }
 ],
 "metadata": {
  "kernelspec": {
   "display_name": "Python 3",
   "language": "python",
   "name": "python3"
  },
  "language_info": {
   "codemirror_mode": {
    "name": "ipython",
    "version": 3
   },
   "file_extension": ".py",
   "mimetype": "text/x-python",
   "name": "python",
   "nbconvert_exporter": "python",
   "pygments_lexer": "ipython3",
   "version": "3.7.4"
  }
 },
 "nbformat": 4,
 "nbformat_minor": 2
}
