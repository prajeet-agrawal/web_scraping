{
 "cells": [
  {
   "cell_type": "code",
   "execution_count": 5,
   "metadata": {},
   "outputs": [],
   "source": [
    "import requests\n",
    "from bs4 import BeautifulSoup\n",
    "import csv\n",
    "\n",
    "base_url = \"https://www.sastodeal.com/sastodeal/cta-huawei-216?flag=setFilters&catalogueID=10&tct=4&apct=28&cts=216&emt=&searchkey=&defaultCategory=216&lvl=&bid=&size=&color=&sd=&bName=&spr=11990%20TO%2030600&startFrom=0&toRange=24\"\n",
    "response = requests.get(base_url)\n",
    "\n",
    "soup = BeautifulSoup(response.content, 'lxml')\n",
    "csv_file = open('sasto_deal.csv', 'w')\n",
    "csv_writer = csv.writer(csv_file)\n",
    "csv_writer.writerow(['PRODUCT DETAILS','OFFERED PRICE'])\n",
    "\n",
    "for table in soup.find_all(class_='prod-detail'):\n",
    "    product_name = table.find('b', class_=\"title\").text\n",
    "    price = table.find(class_=\"mrp offer-price\").text\n",
    "    csv_writer.writerow([product_name, price])\n",
    "    \n",
    "csv_file.close()"
   ]
  },
  {
   "cell_type": "code",
   "execution_count": null,
   "metadata": {},
   "outputs": [],
   "source": []
  }
 ],
 "metadata": {
  "kernelspec": {
   "display_name": "Python 3",
   "language": "python",
   "name": "python3"
  },
  "language_info": {
   "codemirror_mode": {
    "name": "ipython",
    "version": 3
   },
   "file_extension": ".py",
   "mimetype": "text/x-python",
   "name": "python",
   "nbconvert_exporter": "python",
   "pygments_lexer": "ipython3",
   "version": "3.7.4"
  }
 },
 "nbformat": 4,
 "nbformat_minor": 2
}
