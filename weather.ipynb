{
 "cells": [
  {
   "source": [
    "import requests\n",
    "from bs4 import BeautifulSoup\n",
    "import csv\n",
    "\n",
    "base_url = \"https://weather.com/en-IN/weather/tenday/l/3eb968d7a06604b522f130b07342afa0c5728ddfc8a4ed54787b8676df413142\"\n",
    "response = requests.get(base_url)\n",
    "\n",
    "soup = BeautifulSoup(response.content, 'lxml')\n",
    "csv_file = open('weather.csv', 'w')\n",
    "csv_writer = csv.writer(csv_file)\n",
    "csv_writer.writerow(['Sn.','DAY','DATE', 'DESCRIPTION','HIGH / LOW', 'HUMIDITY'])\n",
    "\n",
    "sn=0\n",
    "for table in soup.find_all('tr', class_='clickable closed'):\n",
    "    \n",
    "    sn=sn+1\n",
    "    print(sn)\n",
    "\n",
    "    day = table.find(class_=\"date-time\").text\n",
    "    print(day)\n",
    "    \n",
    "    date = table.find(class_=\"day-detail clearfix\").text\n",
    "    print(day)\n",
    "                     \n",
    "    description = table.find('td', class_=\"description\").text\n",
    "    print(description)\n",
    "    \n",
    "    high_low = table.find('td', class_=\"temp\").text\n",
    "    print(high_low)\n",
    "    \n",
    "    humidity = table.find('td', class_=\"humidity\").text\n",
    "    print(humidity)\n",
    "    \n",
    "    csv_writer.writerow([sn, day, date, description, high_low, humidity])\n",
    "    \n",
    "csv_file.close()"
   ],
   "cell_type": "code",
   "outputs": [
    {
     "output_type": "stream",
     "name": "stdout",
     "text": "1\nToday\nToday\nRain\n12°4°\n85%\n2\nFri\nFri\nSunny\n13°3°\n77%\n3\nSat\nSat\nSunny\n14°4°\n68%\n4\nSun\nSun\nSunny\n17°5°\n67%\n5\nMon\nMon\nSunny\n18°6°\n66%\n6\nTue\nTue\nSunny\n18°7°\n62%\n7\nWed\nWed\nMostly Sunny\n18°7°\n53%\n8\nThu\nThu\nSunny\n18°7°\n54%\n9\nFri\nFri\nMostly Sunny\n17°7°\n56%\n10\nSat\nSat\nPartly Cloudy\n17°6°\n57%\n11\nSun\nSun\nPartly Cloudy\n16°6°\n57%\n12\nMon\nMon\nPM Showers\n15°6°\n60%\n13\nTue\nTue\nPartly Cloudy\n15°6°\n59%\n14\nWed\nWed\nPM Showers\n14°5°\n60%\n15\nThu\nThu\nAM Showers\n14°5°\n64%\n"
    }
   ],
   "metadata": {},
   "execution_count": 2
  },
  {
   "cell_type": "code",
   "execution_count": null,
   "metadata": {},
   "outputs": [],
   "source": []
  }
 ],
 "metadata": {
  "kernelspec": {
   "display_name": "Python 3",
   "language": "python",
   "name": "python3"
  },
  "language_info": {
   "codemirror_mode": {
    "name": "ipython",
    "version": 3
   },
   "file_extension": ".py",
   "mimetype": "text/x-python",
   "name": "python",
   "nbconvert_exporter": "python",
   "pygments_lexer": "ipython3",
   "version": "3.7.6-final"
  }
 },
 "nbformat": 4,
 "nbformat_minor": 2
}