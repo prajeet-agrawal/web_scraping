{
 "cells": [
  {
   "cell_type": "code",
   "execution_count": 1,
   "metadata": {},
   "outputs": [],
   "source": [
    "import pandas as pd\n",
    "import requests\n",
    "from bs4 import BeautifulSoup"
   ]
  },
  {
   "cell_type": "code",
   "execution_count": 2,
   "metadata": {},
   "outputs": [],
   "source": [
    "base_url = \"http://www.nepalstock.com/main/todays_price/index/1\""
   ]
  },
  {
   "cell_type": "code",
   "execution_count": 3,
   "metadata": {},
   "outputs": [],
   "source": [
    "response = requests.get(base_url+\"todaysprice\")"
   ]
  },
  {
   "cell_type": "code",
   "execution_count": 4,
   "metadata": {},
   "outputs": [
    {
     "data": {
      "text/plain": [
       "<Response [200]>"
      ]
     },
     "execution_count": 4,
     "metadata": {},
     "output_type": "execute_result"
    }
   ],
   "source": [
    "response"
   ]
  },
  {
   "cell_type": "code",
   "execution_count": 5,
   "metadata": {},
   "outputs": [
    {
     "data": {
      "text/plain": [
       "200"
      ]
     },
     "execution_count": 5,
     "metadata": {},
     "output_type": "execute_result"
    }
   ],
   "source": [
    "response.status_code"
   ]
  },
  {
   "cell_type": "code",
   "execution_count": 6,
   "metadata": {},
   "outputs": [],
   "source": [
    "html_soup = BeautifulSoup(response.content, 'lxml')"
   ]
  },
  {
   "cell_type": "code",
   "execution_count": 7,
   "metadata": {},
   "outputs": [
    {
     "data": {
      "text/plain": [
       "<title>Nepal Stock Exchange Ltd.</title>"
      ]
     },
     "execution_count": 7,
     "metadata": {},
     "output_type": "execute_result"
    }
   ],
   "source": [
    "html_soup.title"
   ]
  },
  {
   "cell_type": "code",
   "execution_count": 8,
   "metadata": {},
   "outputs": [
    {
     "data": {
      "text/plain": [
       "'Nepal Stock Exchange Ltd.'"
      ]
     },
     "execution_count": 8,
     "metadata": {},
     "output_type": "execute_result"
    }
   ],
   "source": [
    "html_soup.title.text"
   ]
  },
  {
   "cell_type": "code",
   "execution_count": 9,
   "metadata": {},
   "outputs": [],
   "source": [
    "tables = html_soup.find_all(\"table\")"
   ]
  },
  {
   "cell_type": "code",
   "execution_count": 10,
   "metadata": {},
   "outputs": [
    {
     "data": {
      "text/plain": [
       "1"
      ]
     },
     "execution_count": 10,
     "metadata": {},
     "output_type": "execute_result"
    }
   ],
   "source": [
    "len(tables)"
   ]
  },
  {
   "cell_type": "code",
   "execution_count": 11,
   "metadata": {},
   "outputs": [],
   "source": [
    "table = tables[0]"
   ]
  },
  {
   "cell_type": "code",
   "execution_count": 12,
   "metadata": {},
   "outputs": [],
   "source": [
    "raw_trs = table.find_all(\"tr\")"
   ]
  },
  {
   "cell_type": "code",
   "execution_count": 13,
   "metadata": {},
   "outputs": [
    {
     "data": {
      "text/plain": [
       "26"
      ]
     },
     "execution_count": 13,
     "metadata": {},
     "output_type": "execute_result"
    }
   ],
   "source": [
    "len(raw_trs)"
   ]
  },
  {
   "cell_type": "code",
   "execution_count": 14,
   "metadata": {},
   "outputs": [],
   "source": [
    "clean_trs = raw_trs[1:22]"
   ]
  },
  {
   "cell_type": "code",
   "execution_count": 15,
   "metadata": {},
   "outputs": [],
   "source": [
    "raw_columns, raw_rows = clean_trs[0], clean_trs[1:]"
   ]
  },
  {
   "cell_type": "code",
   "execution_count": 16,
   "metadata": {},
   "outputs": [],
   "source": [
    "columns = [td.text for td in raw_columns.find_all(\"td\")]"
   ]
  },
  {
   "cell_type": "code",
   "execution_count": 17,
   "metadata": {},
   "outputs": [
    {
     "data": {
      "text/plain": [
       "['S.N.',\n",
       " 'Traded Companies',\n",
       " 'No. Of Transaction',\n",
       " 'Max Price',\n",
       " 'Min Price',\n",
       " 'Closing Price',\n",
       " 'Traded Shares',\n",
       " 'Amount',\n",
       " 'Previous Closing',\n",
       " 'Difference Rs.']"
      ]
     },
     "execution_count": 17,
     "metadata": {},
     "output_type": "execute_result"
    }
   ],
   "source": [
    "columns"
   ]
  },
  {
   "cell_type": "code",
   "execution_count": 18,
   "metadata": {},
   "outputs": [],
   "source": [
    "rows = [[td.text.split('\\xa0')[0] for td in row.find_all(\"td\")] for row in raw_rows]"
   ]
  },
  {
   "cell_type": "code",
   "execution_count": 19,
   "metadata": {},
   "outputs": [
    {
     "data": {
      "text/plain": [
       "[['1',\n",
       "  'Agriculture Development Bank Limited',\n",
       "  '67',\n",
       "  '368.00',\n",
       "  '359.00',\n",
       "  '359.00',\n",
       "  '6793.00',\n",
       "  '2451873.00',\n",
       "  '367.00',\n",
       "  '-8.00'],\n",
       " ['2',\n",
       "  'Ankhu Khola Jalvidhyut Company Ltd',\n",
       "  '18',\n",
       "  '59.00',\n",
       "  '58.00',\n",
       "  '58.00',\n",
       "  '520.00',\n",
       "  '30240.00',\n",
       "  '57.00',\n",
       "  '1.00'],\n",
       " ['3',\n",
       "  'Api Power Company Ltd.',\n",
       "  '25',\n",
       "  '110.00',\n",
       "  '106.00',\n",
       "  '108.00',\n",
       "  '5164.00',\n",
       "  '549866.00',\n",
       "  '110.00',\n",
       "  '-2.00'],\n",
       " ['4',\n",
       "  'Arun Kabeli Power Ltd.',\n",
       "  '49',\n",
       "  '114.00',\n",
       "  '111.00',\n",
       "  '114.00',\n",
       "  '26330.00',\n",
       "  '2958023.00',\n",
       "  '112.00',\n",
       "  '2.00'],\n",
       " ['5',\n",
       "  'Arun Valley Hydropower Development Co. Ltd.',\n",
       "  '6',\n",
       "  '94.00',\n",
       "  '92.00',\n",
       "  '92.00',\n",
       "  '1640.00',\n",
       "  '151890.00',\n",
       "  '94.00',\n",
       "  '-2.00'],\n",
       " ['6',\n",
       "  'Asha Laghubitta Bittiya Sanstha Ltd',\n",
       "  '76',\n",
       "  '514.00',\n",
       "  '492.00',\n",
       "  '497.00',\n",
       "  '4466.00',\n",
       "  '2234866.00',\n",
       "  '496.00',\n",
       "  '1.00'],\n",
       " ['7',\n",
       "  'Asian Life Insurance Co. Limited',\n",
       "  '52',\n",
       "  '384.00',\n",
       "  '375.00',\n",
       "  '379.00',\n",
       "  '9598.00',\n",
       "  '3639640.00',\n",
       "  '378.00',\n",
       "  '1.00'],\n",
       " ['8',\n",
       "  'Bank of Kathmandu Ltd.',\n",
       "  '127',\n",
       "  '215.00',\n",
       "  '211.00',\n",
       "  '214.00',\n",
       "  '39203.00',\n",
       "  '8331307.00',\n",
       "  '215.00',\n",
       "  '-1.00'],\n",
       " ['9',\n",
       "  'Barun Hydropower Co. Ltd.',\n",
       "  '4',\n",
       "  '84.00',\n",
       "  '82.00',\n",
       "  '82.00',\n",
       "  '310.00',\n",
       "  '25820.00',\n",
       "  '85.00',\n",
       "  '-3.00'],\n",
       " ['10',\n",
       "  'Best Finance Company Ltd.',\n",
       "  '8',\n",
       "  '85.00',\n",
       "  '84.00',\n",
       "  '85.00',\n",
       "  '1855.00',\n",
       "  '156695.00',\n",
       "  '85.00',\n",
       "  '0.00'],\n",
       " ['11',\n",
       "  'Bishal Bazar Company Limited',\n",
       "  '11',\n",
       "  '1921.00',\n",
       "  '1846.00',\n",
       "  '1882.00',\n",
       "  '150.00',\n",
       "  '280450.00',\n",
       "  '1960.00',\n",
       "  '-78.00'],\n",
       " ['12',\n",
       "  'Bottlers Nepal (Terai) Limited',\n",
       "  '4',\n",
       "  '6150.00',\n",
       "  '6125.00',\n",
       "  '6150.00',\n",
       "  '50.00',\n",
       "  '306740.00',\n",
       "  '6075.00',\n",
       "  '75.00'],\n",
       " ['13',\n",
       "  'Butwal Power Company Limited',\n",
       "  '60',\n",
       "  '303.00',\n",
       "  '300.00',\n",
       "  '302.00',\n",
       "  '6109.00',\n",
       "  '1841948.00',\n",
       "  '302.00',\n",
       "  '0.00'],\n",
       " ['14',\n",
       "  'Central Finance Co. Ltd.',\n",
       "  '7',\n",
       "  '119.00',\n",
       "  '117.00',\n",
       "  '117.00',\n",
       "  '844.00',\n",
       "  '99376.00',\n",
       "  '118.00',\n",
       "  '-1.00'],\n",
       " ['15',\n",
       "  'Century Commercial Bank Ltd.',\n",
       "  '53',\n",
       "  '166.00',\n",
       "  '164.00',\n",
       "  '165.00',\n",
       "  '11025.00',\n",
       "  '1818874.00',\n",
       "  '164.00',\n",
       "  '1.00'],\n",
       " ['16',\n",
       "  'Chhimek Laghubitta Bikas Bank Limited',\n",
       "  '35',\n",
       "  '815.00',\n",
       "  '805.00',\n",
       "  '810.00',\n",
       "  '4100.00',\n",
       "  '3319758.00',\n",
       "  '806.00',\n",
       "  '4.00'],\n",
       " ['17',\n",
       "  'Chhyangdi Hydropower Ltd.',\n",
       "  '5',\n",
       "  '87.00',\n",
       "  '86.00',\n",
       "  '87.00',\n",
       "  '77.00',\n",
       "  '6656.00',\n",
       "  '87.00',\n",
       "  '0.00'],\n",
       " ['18',\n",
       "  'Chilime Hydropower Company Limited',\n",
       "  '16',\n",
       "  '362.00',\n",
       "  '357.00',\n",
       "  '359.00',\n",
       "  '4191.00',\n",
       "  '1510407.00',\n",
       "  '357.00',\n",
       "  '2.00'],\n",
       " ['19',\n",
       "  'Citizen Bank International Limited',\n",
       "  '45',\n",
       "  '183.00',\n",
       "  '181.00',\n",
       "  '181.00',\n",
       "  '5731.00',\n",
       "  '1040810.00',\n",
       "  '183.00',\n",
       "  '-2.00'],\n",
       " ['20',\n",
       "  'Citizen Investment Trust',\n",
       "  '71',\n",
       "  '2101.00',\n",
       "  '2062.00',\n",
       "  '2077.00',\n",
       "  '6801.00',\n",
       "  '14132581.00',\n",
       "  '2104.00',\n",
       "  '-27.00']]"
      ]
     },
     "execution_count": 19,
     "metadata": {},
     "output_type": "execute_result"
    }
   ],
   "source": [
    "rows"
   ]
  },
  {
   "cell_type": "code",
   "execution_count": 20,
   "metadata": {},
   "outputs": [],
   "source": [
    "def get_data(base_url, trail_url):\n",
    "    response = requests.get(base_url+trail_url)\n",
    "    html_soup = BeautifulSoup(response.content, 'lxml')\n",
    "    tables = html_soup.find_all(\"table\")\n",
    "    table = tables[0]\n",
    "    raw_trs = table.find_all(\"tr\")\n",
    "    clean_trs = raw_trs[1:22]\n",
    "    raw_columns, raw_rows = clean_trs[0], clean_trs[1:]\n",
    "    columns = [td.text for td in raw_columns.find_all(\"td\")]\n",
    "    rows = [[td.text.split('\\xa0')[0] for td in row.find_all(\"td\")] for row in raw_rows]\n",
    "    return columns, rows\n",
    "    "
   ]
  },
  {
   "cell_type": "code",
   "execution_count": 21,
   "metadata": {},
   "outputs": [],
   "source": [
    "def get_dict(**datas):\n",
    "    columns = datas.get('columns')\n",
    "    rows = datas.get('rows')\n",
    "    return [dict(zip(columns, row)) for row in rows]\n",
    "    "
   ]
  },
  {
   "cell_type": "code",
   "execution_count": 22,
   "metadata": {},
   "outputs": [],
   "source": [
    "columns, rows = get_data(base_url, 'todaysprice')"
   ]
  },
  {
   "cell_type": "code",
   "execution_count": 23,
   "metadata": {},
   "outputs": [],
   "source": [
    "datas = get_dict(columns=columns, rows=rows)"
   ]
  },
  {
   "cell_type": "code",
   "execution_count": 24,
   "metadata": {},
   "outputs": [
    {
     "data": {
      "text/plain": [
       "[{'S.N.': '1',\n",
       "  'Traded Companies': 'Agriculture Development Bank Limited',\n",
       "  'No. Of Transaction': '67',\n",
       "  'Max Price': '368.00',\n",
       "  'Min Price': '359.00',\n",
       "  'Closing Price': '359.00',\n",
       "  'Traded Shares': '6793.00',\n",
       "  'Amount': '2451873.00',\n",
       "  'Previous Closing': '367.00',\n",
       "  'Difference Rs.': '-8.00'},\n",
       " {'S.N.': '2',\n",
       "  'Traded Companies': 'Ankhu Khola Jalvidhyut Company Ltd',\n",
       "  'No. Of Transaction': '18',\n",
       "  'Max Price': '59.00',\n",
       "  'Min Price': '58.00',\n",
       "  'Closing Price': '58.00',\n",
       "  'Traded Shares': '520.00',\n",
       "  'Amount': '30240.00',\n",
       "  'Previous Closing': '57.00',\n",
       "  'Difference Rs.': '1.00'},\n",
       " {'S.N.': '3',\n",
       "  'Traded Companies': 'Api Power Company Ltd.',\n",
       "  'No. Of Transaction': '25',\n",
       "  'Max Price': '110.00',\n",
       "  'Min Price': '106.00',\n",
       "  'Closing Price': '108.00',\n",
       "  'Traded Shares': '5164.00',\n",
       "  'Amount': '549866.00',\n",
       "  'Previous Closing': '110.00',\n",
       "  'Difference Rs.': '-2.00'},\n",
       " {'S.N.': '4',\n",
       "  'Traded Companies': 'Arun Kabeli Power Ltd.',\n",
       "  'No. Of Transaction': '49',\n",
       "  'Max Price': '114.00',\n",
       "  'Min Price': '111.00',\n",
       "  'Closing Price': '114.00',\n",
       "  'Traded Shares': '26330.00',\n",
       "  'Amount': '2958023.00',\n",
       "  'Previous Closing': '112.00',\n",
       "  'Difference Rs.': '2.00'},\n",
       " {'S.N.': '5',\n",
       "  'Traded Companies': 'Arun Valley Hydropower Development Co. Ltd.',\n",
       "  'No. Of Transaction': '6',\n",
       "  'Max Price': '94.00',\n",
       "  'Min Price': '92.00',\n",
       "  'Closing Price': '92.00',\n",
       "  'Traded Shares': '1640.00',\n",
       "  'Amount': '151890.00',\n",
       "  'Previous Closing': '94.00',\n",
       "  'Difference Rs.': '-2.00'},\n",
       " {'S.N.': '6',\n",
       "  'Traded Companies': 'Asha Laghubitta Bittiya Sanstha Ltd',\n",
       "  'No. Of Transaction': '76',\n",
       "  'Max Price': '514.00',\n",
       "  'Min Price': '492.00',\n",
       "  'Closing Price': '497.00',\n",
       "  'Traded Shares': '4466.00',\n",
       "  'Amount': '2234866.00',\n",
       "  'Previous Closing': '496.00',\n",
       "  'Difference Rs.': '1.00'},\n",
       " {'S.N.': '7',\n",
       "  'Traded Companies': 'Asian Life Insurance Co. Limited',\n",
       "  'No. Of Transaction': '52',\n",
       "  'Max Price': '384.00',\n",
       "  'Min Price': '375.00',\n",
       "  'Closing Price': '379.00',\n",
       "  'Traded Shares': '9598.00',\n",
       "  'Amount': '3639640.00',\n",
       "  'Previous Closing': '378.00',\n",
       "  'Difference Rs.': '1.00'},\n",
       " {'S.N.': '8',\n",
       "  'Traded Companies': 'Bank of Kathmandu Ltd.',\n",
       "  'No. Of Transaction': '127',\n",
       "  'Max Price': '215.00',\n",
       "  'Min Price': '211.00',\n",
       "  'Closing Price': '214.00',\n",
       "  'Traded Shares': '39203.00',\n",
       "  'Amount': '8331307.00',\n",
       "  'Previous Closing': '215.00',\n",
       "  'Difference Rs.': '-1.00'},\n",
       " {'S.N.': '9',\n",
       "  'Traded Companies': 'Barun Hydropower Co. Ltd.',\n",
       "  'No. Of Transaction': '4',\n",
       "  'Max Price': '84.00',\n",
       "  'Min Price': '82.00',\n",
       "  'Closing Price': '82.00',\n",
       "  'Traded Shares': '310.00',\n",
       "  'Amount': '25820.00',\n",
       "  'Previous Closing': '85.00',\n",
       "  'Difference Rs.': '-3.00'},\n",
       " {'S.N.': '10',\n",
       "  'Traded Companies': 'Best Finance Company Ltd.',\n",
       "  'No. Of Transaction': '8',\n",
       "  'Max Price': '85.00',\n",
       "  'Min Price': '84.00',\n",
       "  'Closing Price': '85.00',\n",
       "  'Traded Shares': '1855.00',\n",
       "  'Amount': '156695.00',\n",
       "  'Previous Closing': '85.00',\n",
       "  'Difference Rs.': '0.00'},\n",
       " {'S.N.': '11',\n",
       "  'Traded Companies': 'Bishal Bazar Company Limited',\n",
       "  'No. Of Transaction': '11',\n",
       "  'Max Price': '1921.00',\n",
       "  'Min Price': '1846.00',\n",
       "  'Closing Price': '1882.00',\n",
       "  'Traded Shares': '150.00',\n",
       "  'Amount': '280450.00',\n",
       "  'Previous Closing': '1960.00',\n",
       "  'Difference Rs.': '-78.00'},\n",
       " {'S.N.': '12',\n",
       "  'Traded Companies': 'Bottlers Nepal (Terai) Limited',\n",
       "  'No. Of Transaction': '4',\n",
       "  'Max Price': '6150.00',\n",
       "  'Min Price': '6125.00',\n",
       "  'Closing Price': '6150.00',\n",
       "  'Traded Shares': '50.00',\n",
       "  'Amount': '306740.00',\n",
       "  'Previous Closing': '6075.00',\n",
       "  'Difference Rs.': '75.00'},\n",
       " {'S.N.': '13',\n",
       "  'Traded Companies': 'Butwal Power Company Limited',\n",
       "  'No. Of Transaction': '60',\n",
       "  'Max Price': '303.00',\n",
       "  'Min Price': '300.00',\n",
       "  'Closing Price': '302.00',\n",
       "  'Traded Shares': '6109.00',\n",
       "  'Amount': '1841948.00',\n",
       "  'Previous Closing': '302.00',\n",
       "  'Difference Rs.': '0.00'},\n",
       " {'S.N.': '14',\n",
       "  'Traded Companies': 'Central Finance Co. Ltd.',\n",
       "  'No. Of Transaction': '7',\n",
       "  'Max Price': '119.00',\n",
       "  'Min Price': '117.00',\n",
       "  'Closing Price': '117.00',\n",
       "  'Traded Shares': '844.00',\n",
       "  'Amount': '99376.00',\n",
       "  'Previous Closing': '118.00',\n",
       "  'Difference Rs.': '-1.00'},\n",
       " {'S.N.': '15',\n",
       "  'Traded Companies': 'Century Commercial Bank Ltd.',\n",
       "  'No. Of Transaction': '53',\n",
       "  'Max Price': '166.00',\n",
       "  'Min Price': '164.00',\n",
       "  'Closing Price': '165.00',\n",
       "  'Traded Shares': '11025.00',\n",
       "  'Amount': '1818874.00',\n",
       "  'Previous Closing': '164.00',\n",
       "  'Difference Rs.': '1.00'},\n",
       " {'S.N.': '16',\n",
       "  'Traded Companies': 'Chhimek Laghubitta Bikas Bank Limited',\n",
       "  'No. Of Transaction': '35',\n",
       "  'Max Price': '815.00',\n",
       "  'Min Price': '805.00',\n",
       "  'Closing Price': '810.00',\n",
       "  'Traded Shares': '4100.00',\n",
       "  'Amount': '3319758.00',\n",
       "  'Previous Closing': '806.00',\n",
       "  'Difference Rs.': '4.00'},\n",
       " {'S.N.': '17',\n",
       "  'Traded Companies': 'Chhyangdi Hydropower Ltd.',\n",
       "  'No. Of Transaction': '5',\n",
       "  'Max Price': '87.00',\n",
       "  'Min Price': '86.00',\n",
       "  'Closing Price': '87.00',\n",
       "  'Traded Shares': '77.00',\n",
       "  'Amount': '6656.00',\n",
       "  'Previous Closing': '87.00',\n",
       "  'Difference Rs.': '0.00'},\n",
       " {'S.N.': '18',\n",
       "  'Traded Companies': 'Chilime Hydropower Company Limited',\n",
       "  'No. Of Transaction': '16',\n",
       "  'Max Price': '362.00',\n",
       "  'Min Price': '357.00',\n",
       "  'Closing Price': '359.00',\n",
       "  'Traded Shares': '4191.00',\n",
       "  'Amount': '1510407.00',\n",
       "  'Previous Closing': '357.00',\n",
       "  'Difference Rs.': '2.00'},\n",
       " {'S.N.': '19',\n",
       "  'Traded Companies': 'Citizen Bank International Limited',\n",
       "  'No. Of Transaction': '45',\n",
       "  'Max Price': '183.00',\n",
       "  'Min Price': '181.00',\n",
       "  'Closing Price': '181.00',\n",
       "  'Traded Shares': '5731.00',\n",
       "  'Amount': '1040810.00',\n",
       "  'Previous Closing': '183.00',\n",
       "  'Difference Rs.': '-2.00'},\n",
       " {'S.N.': '20',\n",
       "  'Traded Companies': 'Citizen Investment Trust',\n",
       "  'No. Of Transaction': '71',\n",
       "  'Max Price': '2101.00',\n",
       "  'Min Price': '2062.00',\n",
       "  'Closing Price': '2077.00',\n",
       "  'Traded Shares': '6801.00',\n",
       "  'Amount': '14132581.00',\n",
       "  'Previous Closing': '2104.00',\n",
       "  'Difference Rs.': '-27.00'}]"
      ]
     },
     "execution_count": 24,
     "metadata": {},
     "output_type": "execute_result"
    }
   ],
   "source": [
    "datas"
   ]
  },
  {
   "cell_type": "code",
   "execution_count": 25,
   "metadata": {},
   "outputs": [],
   "source": [
    "import csv\n",
    "def write_to_csv(datas):\n",
    "    with open('stock_market.csv', 'w') as write_file:\n",
    "        writer = csv.DictWriter(write_file, fieldnames=datas[0].keys())\n",
    "        writer.writeheader()\n",
    "        writer.writerows(datas)"
   ]
  },
  {
   "cell_type": "code",
   "execution_count": 26,
   "metadata": {},
   "outputs": [],
   "source": [
    "write_to_csv(datas)"
   ]
  },
  {
   "cell_type": "code",
   "execution_count": 27,
   "metadata": {},
   "outputs": [
    {
     "name": "stdout",
     "output_type": "stream",
     "text": [
      "100 examples.ipynb\r\n",
      "Assignment - Nov 28.ipynb\r\n",
      "Class & Objects.ipynb\r\n",
      "Class-and-Objects.ipynb\r\n",
      "Descriptor.ipynb\r\n",
      "Dictionary-and-its-methods.ipynb\r\n",
      "Examples.ipynb\r\n",
      "Introduction.ipynb\r\n",
      "My List.ipynb\r\n",
      "OOP teminologies.ipynb\r\n",
      "OOP-teminologies.ipynb\r\n",
      "Set.ipynb\r\n",
      "Untitled.ipynb\r\n",
      "Untitled1.ipynb\r\n",
      "Untitled2.ipynb\r\n",
      "Web-Scraping_latest.ipynb\r\n",
      "args  kwargs.ipynb\r\n",
      "bw_list.ipynb\r\n",
      "comprehension.ipynb\r\n",
      "emergency_number.csv\r\n",
      "emergency_number.ipynb\r\n",
      "file handeling.ipynb\r\n",
      "file renaming script.ipynb\r\n",
      "functions.ipynb\r\n",
      "login_function.ipynb\r\n",
      "loop and controls.ipynb\r\n",
      "methods in class.ipynb\r\n",
      "methods-in-class.ipynb\r\n",
      "native-data-types-and-common-operators.ipynb\r\n",
      "nepali_cal.csv\r\n",
      "new_1.py\r\n",
      "newegg scraping.ipynb\r\n",
      "practice.ipynb\r\n",
      "practice1.ipynb\r\n",
      "profile.csv\r\n",
      "project - web scraping.ipynb\r\n",
      "python.txt\r\n",
      "revise.ipynb\r\n",
      "set-and-its-methods.ipynb\r\n",
      "stock_market.csv\r\n",
      "sum of numbers.ipynb\r\n",
      "tuple.ipynb\r\n",
      "weather.csv\r\n",
      "weather_webscraping.ipynb\r\n",
      "web scraping.ipynb\r\n",
      "web-scraping_class.ipynb\r\n",
      "web_final_project.ipynb\r\n",
      "web_scraping_Daraz.ipynb\r\n",
      "web_scraping_share.ipynb\r\n",
      "zip_codes.csv\r\n"
     ]
    }
   ],
   "source": [
    "ls"
   ]
  },
  {
   "cell_type": "code",
   "execution_count": 28,
   "metadata": {},
   "outputs": [],
   "source": [
    "less stock_market.csv"
   ]
  },
  {
   "cell_type": "code",
   "execution_count": null,
   "metadata": {},
   "outputs": [],
   "source": []
  },
  {
   "cell_type": "code",
   "execution_count": null,
   "metadata": {},
   "outputs": [],
   "source": []
  },
  {
   "cell_type": "code",
   "execution_count": null,
   "metadata": {},
   "outputs": [],
   "source": []
  }
 ],
 "metadata": {
  "kernelspec": {
   "display_name": "Python 3",
   "language": "python",
   "name": "python3"
  },
  "language_info": {
   "codemirror_mode": {
    "name": "ipython",
    "version": 3
   },
   "file_extension": ".py",
   "mimetype": "text/x-python",
   "name": "python",
   "nbconvert_exporter": "python",
   "pygments_lexer": "ipython3",
   "version": "3.7.4"
  }
 },
 "nbformat": 4,
 "nbformat_minor": 2
}
