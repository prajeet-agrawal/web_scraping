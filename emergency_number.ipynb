{
 "cells": [
  {
   "cell_type": "raw",
   "metadata": {},
   "source": [
    "import requests\n",
    "from bs4 import BeautifulSoup\n",
    "import csv\n",
    "\n",
    "base_url = \"https://www.nepalpolice.gov.np/index.php/safety-security-tips/emergency-numbers\"\n",
    "response = requests.get(base_url)\n",
    "\n",
    "soup = BeautifulSoup(response.content, 'lxml')\n",
    "tables = soup.find_all(\"tr\")\n",
    "\n",
    "name, phone = tables[0], tables[1:]\n",
    "rows = [[td.text for td in row.find_all(\"td\")] for row in tables]\n",
    "columns = [td.text for td in name.find_all(\"td\")]\n",
    "\n",
    "def get_dict(**datas):\n",
    "    rows = datas.get('rows')\n",
    "    columns = datas.get('columns')\n",
    "    return [dict(zip(columns, row)) for row in rows]\n",
    "\n",
    "datas = get_dict(columns=columns, rows=rows)\n",
    "\n",
    "def write_to_csv(datas):\n",
    "    with open('emergency_number.csv', 'w') as write_file:\n",
    "        writer = csv.DictWriter(write_file, fieldnames=datas[0].keys())\n",
    "        writer.writerows(datas)\n",
    "        \n",
    "write_to_csv(datas)"
   ]
  },
  {
   "cell_type": "code",
   "execution_count": 1,
   "metadata": {},
   "outputs": [],
   "source": [
    "import requests\n",
    "from bs4 import BeautifulSoup\n",
    "import csv\n",
    "\n",
    "base_url = \"https://www.nepalpolice.gov.np/index.php/safety-security-tips/emergency-numbers\"\n",
    "response = requests.get(base_url)\n",
    "soup = BeautifulSoup(response.content, 'lxml')\n",
    "\n",
    "tables = soup.find_all(\"tr\")\n",
    "name, phone = tables[0], tables[1:]\n",
    "rows = [[td.text for td in row.find_all(\"td\")] for row in tables]\n",
    "columns = [td.text for td in name.find_all(\"td\")]\n",
    "\n",
    "def get_dict(**datas):\n",
    "    rows = datas.get('rows')\n",
    "    columns = datas.get('columns')\n",
    "    return [dict(zip(columns, row)) for row in rows]\n",
    "\n",
    "datas = get_dict(columns=columns, rows=rows)\n",
    "\n",
    "def write_to_csv(datas):\n",
    "    with open('emergency_number.csv', 'w') as write_file:\n",
    "        writer = csv.DictWriter(write_file, fieldnames=datas[0].keys())\n",
    "        writer.writerows(datas)\n",
    "        \n",
    "write_to_csv(datas)"
   ]
  },
  {
   "cell_type": "code",
   "execution_count": null,
   "metadata": {},
   "outputs": [],
   "source": []
  }
 ],
 "metadata": {
  "kernelspec": {
   "display_name": "Python 3",
   "language": "python",
   "name": "python3"
  },
  "language_info": {
   "codemirror_mode": {
    "name": "ipython",
    "version": 3
   },
   "file_extension": ".py",
   "mimetype": "text/x-python",
   "name": "python",
   "nbconvert_exporter": "python",
   "pygments_lexer": "ipython3",
   "version": "3.7.6-final"
  }
 },
 "nbformat": 4,
 "nbformat_minor": 2
}