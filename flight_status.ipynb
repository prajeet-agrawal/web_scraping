{
 "cells": [
  {
   "cell_type": "code",
   "execution_count": 3,
   "metadata": {},
   "outputs": [
    {
     "name": "stdout",
     "output_type": "stream",
     "text": "1\nBuddha Air\nBHA 603\n06:45\n07:15\nPKR\n\n2\nBuddha Air\nBHA 451\n07:15\n08:15\nKEP\n\n3\nYeti Airlines\nYT 145\n07:25\n07:50\nLUA\n\n4\nYeti Airlines\nYT 891\n07:30\n08:05\nBWA\n\n5\nNepal Airlines\nRA 205\n08:00\n09:40\nDEL\n\n6\nShree Airlines\nS2A 221\n08:00\n08:55\nDHI\n\n7\nBuddha Air\nBHA 601\n08:00\n08:30\nPKR\n\n8\nYeti Airlines\nYT 671\n08:00\n08:25\nPKR\n\n9\nBuddha Air\nBHA 703\n08:00\n08:35\nBIR\n\n10\nBuddha Air\nBHA 251\n08:00\n09:10\nDHI\n\n11\nBuddha Air\nBHA 133\n08:00\n09:05\nSKH\n\n12\nBuddha Air\nBHA 551\n08:15\n08:30\nSIF\n\n13\nYeti Airlines\nYT 787\n08:30\n09:10\nBIR\n\n14\nYeti Airlines\nYT 673\n08:30\n08:55\nPKR\n\n15\nYeti Airlines\nYT 149\n08:30\n09:00\nLUA\n\n16\nShree Airlines\nS2A 431\n08:45\n09:30\nKEP\n\n17\nBuddha Air\nBHA 851\n08:50\n09:25\nBWA\n\n18\nShree Airlines\nS2A 821\n09:00\n09:25\nBWA\n\n19\nSimrik Airlines\nRMK 151\n09:00\n09:30\nPKR\n\n20\nBuddha Air\nBHA 351\n09:00\n09:20\nBHR\n\n21\nBuddha Air\nBHA 951\n09:10\n09:50\nBDP\n\n22\nflydubai\nFZ 572\n09:15\n12:50\nDXB\n\n23\nEmirates / Operated by flydubai 572\nEK 2356\n09:15\n12:50\nDXB\n\n24\nShree Airlines\nS2A 731\n09:15\n09:45\nBIR\n\n25\nYeti Airlines\nYT 135\n09:30\n09:50\nBHR\n\n"
    }
   ],
   "source": [
    "import requests\n",
    "from bs4 import BeautifulSoup\n",
    "import csv\n",
    "\n",
    "base_url = \"https://www.flightstats.com/v2/flight-tracker/departures/KTM\"\n",
    "response = requests.get(base_url)\n",
    "soup = BeautifulSoup(response.content, 'lxml')\n",
    "\n",
    "csv_file = open('flight_status.csv', 'w')\n",
    "csv_writer = csv.writer(csv_file)\n",
    "csv_writer.writerow(['S.No','FLIGHT','FLIGHT NUMBER','DEPARTURE TIME','ARRIVAL TIME','DESTINATION'])\n",
    "\n",
    "sn = 0\n",
    "\n",
    "for table in soup.find_all('a', class_=\"table__A-s1x7nv9w-2 flrJsE\"):\n",
    "    sn = sn +1\n",
    "    print(sn)\n",
    "    \n",
    "    flight = table.find('div', class_='table__Cell-s1x7nv9w-13 iZEpOT').text\n",
    "    print(flight)\n",
    "    \n",
    "    flight_no = table.find('div', class_='table__Cell-s1x7nv9w-13 Ltznn').text\n",
    "    print(flight_no)\n",
    "    \n",
    "    departure = table.find('div', class_=\"table__Cell-s1x7nv9w-13 nqUsN\").text\n",
    "    print(departure)\n",
    "\n",
    "    arrival = table.find('div', class_=\"table__OrangeCell-s1x7nv9w-14 jJXjoY table__Cell-s1x7nv9w-13 nqUsN\").text\n",
    "    print(arrival)\n",
    "    \n",
    "    destination = table.find('div', class_=\"table__Cell-s1x7nv9w-13 hUDiRd\").text\n",
    "    print(destination)\n",
    "    \n",
    "    print()\n",
    "    \n",
    "    csv_writer.writerow([sn, flight ,flight_no, departure, arrival, destination])\n",
    "    \n",
    "csv_file.close()\n"
   ]
  },
  {
   "cell_type": "code",
   "execution_count": null,
   "metadata": {},
   "outputs": [],
   "source": []
  }
 ],
 "metadata": {
  "kernelspec": {
   "display_name": "Python 3",
   "language": "python",
   "name": "python3"
  },
  "language_info": {
   "codemirror_mode": {
    "name": "ipython",
    "version": 3
   },
   "file_extension": ".py",
   "mimetype": "text/x-python",
   "name": "python",
   "nbconvert_exporter": "python",
   "pygments_lexer": "ipython3",
   "version": "3.7.6-final"
  }
 },
 "nbformat": 4,
 "nbformat_minor": 2
}